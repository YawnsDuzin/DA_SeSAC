{
 "cells": [
  {
   "cell_type": "markdown",
   "metadata": {},
   "source": [
    "## Selenium 라이브러리 소개 및 설치"
   ]
  },
  {
   "cell_type": "markdown",
   "metadata": {},
   "source": [
    "### 셀레니움(Selenium) 소개\n",
    "- 동적 웹 페이지\n",
    "    - JavaScript와 같은 기술로 사용자 상호작용에 따라 실시간으로 내용이 변하는 웹 페이지\n",
    "        - 사용자의 행동(클릭, 스크롤 등)에 따라 웹 페이지 내용이 동적으로 업데이트 됨.\n",
    "- 셀레니움\n",
    "    - 웹 브라우저 자동화 도구\n",
    "        - 브라우저를 통해 직접 웹페이지와 상호작용할 수 있음.\n",
    "        - 다양한 웹 브라우저 지원 (Chrome, Firefox, Safari, Edge 등)\n",
    "        - 다양한 언어 지원 (Python, Java, C# 등)\n",
    "    - 동적 웹 페이지 크롤링, 웹 애플리케이션 테스트 자동화 등에 사용됨.\n",
    "    - 참고 사이트\n",
    "        - https://www.selenium.dev/"
   ]
  },
  {
   "cell_type": "markdown",
   "metadata": {},
   "source": [
    "### 셀레니움 (Selenium) 설치\n",
    "- 셀레니움 설치\n",
    "    ```\n",
    "    pip install selenium\n",
    "    ```\n",
    "\n",
    "- 웹 드라이버 생성\n",
    "```\n",
    "from selenium import webdriver\n",
    "\n",
    "# 크롬 드라이버 생성\n",
    "driver = webdriver.Chrome()\n",
    "# Edge 드라이버 생성\n",
    "driver = webdriver.Edge()\n",
    "```\n",
    "\n",
    "- 웹 페이지 열기\n",
    "```\n",
    "driver.get('https://www.naver.com)\n",
    "```"
   ]
  },
  {
   "cell_type": "markdown",
   "metadata": {},
   "source": [
    "### 셀레니움 (Selenium) 사용하기\n",
    "- 페이지 이동하기\n",
    "```\n",
    "driver.get(url)\n",
    "driver.get('https://www.naver.com)\n",
    "```\n",
    "- 이 명령어는 웹 브라우저가 실행 중일때만 동작함.\n",
    "- 이 명령어는 웹 페이지가 완전히 로드될 때까지 다음 명령 실행을 차단(block)시킴\n",
    "    - 페이지 로딩이 완료된 후에야 이 명령 다음 명령들을 실행함.\n",
    "    - NoSuchWindowException\n",
    "        - 이미 꺼진 창을 제어하려 했을 때 발생하는 오류\n",
    "        - 창이 실행되고 있는지 확인 후 코드 실행"
   ]
  },
  {
   "cell_type": "markdown",
   "metadata": {},
   "source": [
    "- 기본 조작 명령\n",
    "    - 기본 명령\n",
    "        ```\n",
    "        Driver.back()\n",
    "        Driver.foward()\n",
    "        Driver.refresh()\n",
    "        Driver.maximize_window()\n",
    "        Driver.minimize_window()\n",
    "        ```\n",
    "    - 브라우저 종료\n",
    "        ```\n",
    "        Driver.close() : 현재 활성화 된 창을 닫기\n",
    "        Driver.quit() : 모든 창을 닫고, WebDriver 세션을 종료        \n",
    "        ```\n",
    "    - 현재 URL 확인\n",
    "        ```\n",
    "        Driver.current_url\n",
    "        ```\n",
    "        - 웹 페이지 접근 시, 리다이렉션이 발생하는 경우, 최종적으로 리다이렉션 된 후의 url을 확인할 때 유용\n",
    "            - 리다이렉션 : 페이지를 자동으로 다른 url로 이동시키는 과정"
   ]
  },
  {
   "cell_type": "markdown",
   "metadata": {},
   "source": [
    "### 셀레니움의 By 클래스\n",
    "- 셀레니움에서 요소를 찾는 다양한 방법을 제공하는 클래스\n",
    "    - id"
   ]
  },
  {
   "cell_type": "markdown",
   "metadata": {},
   "source": []
  }
 ],
 "metadata": {
  "language_info": {
   "name": "python"
  }
 },
 "nbformat": 4,
 "nbformat_minor": 2
}
