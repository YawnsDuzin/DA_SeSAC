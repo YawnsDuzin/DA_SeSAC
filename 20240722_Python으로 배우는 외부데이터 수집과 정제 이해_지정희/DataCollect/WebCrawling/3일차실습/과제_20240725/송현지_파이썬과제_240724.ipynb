{
 "cells": [
  {
   "cell_type": "code",
   "execution_count": 4,
   "metadata": {},
   "outputs": [],
   "source": [
    "import pandas as pd\n",
    "from bs4 import BeautifulSoup\n",
    "\n",
    "url = 'https://kin.naver.com/search/list.naver?query=%EB%B9%85%EB%8D%B0%EC%9D%B4%ED%84%B0&page=1'\n",
    "\n",
    "header = {\n",
    "    'User-Agent' : 'Mozilla/5.0',    # User-Agent를 모질라로 변경, requests 전에 딕셔너리 형태로 헤더 선언\n",
    "    'Referer' : url\n",
    "    }"
   ]
  },
  {
   "cell_type": "code",
   "execution_count": 7,
   "metadata": {},
   "outputs": [],
   "source": [
    "# 지식인 홈페이지 크롤링\n",
    "# 제목, 링크, 날짜, 카테고리, 답변 수\n",
    "\n",
    "import requests\n",
    "\n",
    "data = []\n",
    "pages = int(input(f'조회할 페이지를 입력하세요.'))\n",
    "for i in range(1, pages+1):\n",
    "    url = f'https://kin.naver.com/search/list.naver?query=%EB%B9%85%EB%8D%B0%EC%9D%B4%ED%84%B0&page={i}'\n",
    "    response = requests.get(url, headers=header)\n",
    "    \n",
    "    if response.status_code == 200:\n",
    "        html = response.text\n",
    "        soup = BeautifulSoup(html, 'html.parser')\n",
    "        q_list = soup.select('.basic1 li')\n",
    "\n",
    "        for q in q_list:\n",
    "            title = q.select_one('dt a').text.strip()\n",
    "            link = q.select_one('dt a').attrs['href'].strip()\n",
    "            date = q.select_one('.txt_inline').text.strip()\n",
    "            category = q.select_one('.txt_block :nth-child(2)').text.strip()\n",
    "            answer = q.select_one('.hit').text.strip()\n",
    "            data.append([title, link, date, category, answer])\n",
    "        \n",
    "            if soup.select_one('._nclicks\\\\:kin\\\\.next') == None:\n",
    "                break\n",
    "                    \n",
    "    else:\n",
    "        print(\"실패 : \", response.status_code)\n",
    "\n",
    "df = pd.DataFrame(data, columns=['제목', '링크', '날짜', '카테고리', '답변 수'])\n",
    "df.to_excel('송현지_파이썬과제_240724.xlsx', index=False)"
   ]
  }
 ],
 "metadata": {
  "kernelspec": {
   "display_name": "Python 3",
   "language": "python",
   "name": "python3"
  },
  "language_info": {
   "codemirror_mode": {
    "name": "ipython",
    "version": 3
   },
   "file_extension": ".py",
   "mimetype": "text/x-python",
   "name": "python",
   "nbconvert_exporter": "python",
   "pygments_lexer": "ipython3",
   "version": "3.12.4"
  }
 },
 "nbformat": 4,
 "nbformat_minor": 2
}
