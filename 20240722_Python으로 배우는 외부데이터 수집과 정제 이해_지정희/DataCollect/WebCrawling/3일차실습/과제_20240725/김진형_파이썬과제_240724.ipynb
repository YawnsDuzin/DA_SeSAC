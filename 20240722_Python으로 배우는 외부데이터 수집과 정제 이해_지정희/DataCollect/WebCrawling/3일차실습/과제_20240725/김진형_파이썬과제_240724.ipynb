{
 "cells": [
  {
   "cell_type": "code",
   "execution_count": null,
   "metadata": {},
   "outputs": [],
   "source": [
    "#과제 네이버 지식인에서 키워드 검색(예, 빅데이터)결과 파싱하기 \n",
    "# 제목/링크/날짜/카테고리/답변수/사용자가 정한 페이지수만큼 가져오기\n",
    "# 클래스이름에 특수문자가 들어갈경우에 특수문자앞에는 \\\\를 따로표기해줘야함(일반문자임을 나타내는것)\n",
    "# \"kin.txt\" = kin\\\\.txt"
   ]
  },
  {
   "cell_type": "code",
   "execution_count": 84,
   "metadata": {},
   "outputs": [],
   "source": [
    "import requests\n",
    "from bs4 import BeautifulSoup\n",
    "import pandas as pd\n",
    "param={ 'query': '파리올림픽'}"
   ]
  },
  {
   "cell_type": "code",
   "execution_count": 93,
   "metadata": {},
   "outputs": [
    {
     "name": "stdout",
     "output_type": "stream",
     "text": [
      "파리올림픽 야구 https://kin.naver.com/qna/detail.naver?d1id=10&dirId=100601&docId=472907944&qb=7YyM66as7Jis66a87ZS9&enc=utf8§ion=kin.qna_ency&rank=1&search_sort=0&spq=0 2024.07.24. 올림픽 9\n",
      "2024 파리올림픽 https://kin.naver.com/qna/detail.naver?d1id=10&dirId=100601&docId=470859870&qb=7YyM66as7Jis66a87ZS9&enc=utf8§ion=kin.qna_ency&rank=2&search_sort=0&spq=0 2024.06.10. 올림픽 25\n",
      "파리올림픽 https://kin.naver.com/qna/detail.naver?d1id=10&dirId=100601&docId=472921411&qb=7YyM66as7Jis66a87ZS9&enc=utf8§ion=kin.qna_ency&rank=3&search_sort=0&spq=0 2024.07.24. 올림픽 9\n",
      "파리올림픽 축구 https://kin.naver.com/qna/detail.naver?d1id=11&dirId=1104&docId=472357724&qb=7YyM66as7Jis66a87ZS9&enc=utf8§ion=kin.qna_ency&rank=4&search_sort=0&spq=0 2024.07.11. 고등학교교육 32\n",
      "파리올림픽 날에는 https://kin.naver.com/qna/detail.naver?d1id=3&dirId=3010101&docId=472530449&qb=7YyM66as7Jis66a87ZS9&enc=utf8§ion=kin.qna_ency&rank=5&search_sort=0&spq=0 2024.07.18. 한국드라마 8\n",
      "제33회 파리 올림픽 양궁 나올까요? https://kin.naver.com/qna/detail.naver?d1id=10&dirId=100601&docId=455316513&qb=7YyM66as7Jis66a87ZS9&enc=utf8§ion=kin.qna_ency&rank=6&search_sort=0&spq=0 2024.07.24. 올림픽 6\n",
      "파리올림픽 태권도 중계는 어디서 볼 수... https://kin.naver.com/qna/detail.naver?d1id=10&dirId=100401&docId=472899221&qb=7YyM66as7Jis66a87ZS9&enc=utf8§ion=kin.qna_ency&rank=7&search_sort=0&spq=0 2024.07.23. 태권도 7\n",
      "파리 올림픽 https://kin.naver.com/qna/detail.naver?d1id=10&dirId=100601&docId=472733056&qb=7YyM66as7Jis66a87ZS9&enc=utf8§ion=kin.qna_ency&rank=8&search_sort=0&spq=0 2024.07.20. 올림픽 12\n",
      "파리올림픽 https://kin.naver.com/qna/detail.naver?d1id=10&dirId=100601&docId=472316536&qb=7YyM66as7Jis66a87ZS9&enc=utf8§ion=kin.qna_ency&rank=9&search_sort=0&spq=0 2024.07.11. 올림픽 22\n",
      "파리올림픽 질문 https://kin.naver.com/qna/detail.naver?d1id=10&dirId=100601&docId=472831703&qb=7YyM66as7Jis66a87ZS9&enc=utf8§ion=kin.qna_ency&rank=10&search_sort=0&spq=0 2024.07.22. 올림픽 12\n",
      "파리올림픽 축구 농구 https://kin.naver.com/qna/detail.naver?d1id=5&dirId=51002&docId=472925715&qb=7YyM66as7Jis66a87ZS9&enc=utf8§ion=kin.qna_ency&rank=11&search_sort=0&spq=0 2024.07.24. 스포츠경기 4\n",
      "파리올림픽 스포츠클라이밍 https://kin.naver.com/qna/detail.naver?d1id=10&dirId=100502&docId=470449622&qb=7YyM66as7Jis66a87ZS9&enc=utf8§ion=kin.qna_ency&rank=12&search_sort=0&spq=0 2024.07.07. 등산, 암벽등반 13\n",
      "파리올림픽 기간 유럽 여행 https://kin.naver.com/qna/detail.naver?d1id=9&dirId=9020302&docId=451747527&qb=7YyM66as7Jis66a87ZS9&enc=utf8§ion=kin.qna_ency&rank=13&search_sort=0&spq=0 2024.07.12. 프랑스 4\n",
      "파리 올림픽 축구 https://kin.naver.com/qna/detail.naver?d1id=10&dirId=100601&docId=464584923&qb=7YyM66as7Jis66a87ZS9&enc=utf8§ion=kin.qna_ency&rank=14&search_sort=0&spq=0 2024.06.25. 올림픽 17\n",
      "파리올림픽 개막식 어디에서 볼수 있나요? https://kin.naver.com/qna/detail.naver?d1id=10&dirId=100601&docId=472387488&qb=7YyM66as7Jis66a87ZS9&enc=utf8§ion=kin.qna_ency&rank=15&search_sort=0&spq=0 2024.07.12. 올림픽 25\n",
      "파리올림픽 e스포츠 https://kin.naver.com/qna/detail.naver?d1id=10&dirId=100601&docId=467502180&qb=7YyM66as7Jis66a87ZS9&enc=utf8§ion=kin.qna_ency&rank=16&search_sort=0&spq=0 2024.07.09. 올림픽 10\n",
      "파리올림픽 성화봉송 https://kin.naver.com/qna/detail.naver?d1id=10&dirId=100601&docId=472491327&qb=7YyM66as7Jis66a87ZS9&enc=utf8§ion=kin.qna_ency&rank=17&search_sort=0&spq=0 2024.07.18. 올림픽 6\n",
      "7월 26일 프랑스 파리 동계 올림픽!!... https://kin.naver.com/qna/detail.naver?d1id=8&dirId=814&docId=471954277&qb=7YyM66as7Jis66a87ZS9&enc=utf8§ion=kin.qna_ency&rank=18&search_sort=0&spq=0 2024.07.10. 기타 17\n",
      "파리올림픽 다른 나라 경기는 실시간으로... https://kin.naver.com/qna/detail.naver?d1id=10&dirId=100601&docId=472624377&qb=7YyM66as7Jis66a87ZS9&enc=utf8§ion=kin.qna_ency&rank=19&search_sort=0&spq=0 2024.07.18. 올림픽 10\n",
      "파리 올림픽 개막식 https://kin.naver.com/qna/detail.naver?d1id=10&dirId=100601&docId=450200004&qb=7YyM66as7Jis66a87ZS9&enc=utf8§ion=kin.qna_ency&rank=20&search_sort=0&spq=0 2024.07.18. 올림픽 11\n"
     ]
    }
   ],
   "source": [
    "def searchcount(number):\n",
    "    data = []\n",
    "    for i in range(1, number+1):\n",
    "        url = f'https://kin.naver.com/search/list.naver?&page={i}'\n",
    "        response = requests.get(url, params=param)\n",
    "        if response.status_code == 200:\n",
    "            html = response.text\n",
    "            soup = BeautifulSoup(html, 'html.parser')\n",
    "            items = soup.select('.basic1>li')\n",
    "            #print(items)\n",
    "\n",
    "            \n",
    "            for result in items:\n",
    "                title = result.select_one('a').text.strip()\n",
    "                link = result.select_one('a').attrs['href'].strip()\n",
    "                date = result.select_one('.txt_inline').text.strip()\n",
    "                category = result.select_one('.txt_block a~a').text.strip()\n",
    "                answer = result.select_one('.hit').text.lstrip(\"답변수 \")\n",
    "                print(title,link,date,category,answer)\n",
    "                data.append([title,link,date,category,answer])\n",
    "            df = pd.DataFrame(data,columns= ['제목','링크','날짜','카테고리','답변수'])\n",
    "        \n",
    "            #return df \n",
    "        else:\n",
    "            print('실패',response.status_code)\n",
    "        df.to_excel('naver_search.xlsx', index=False)\n",
    "number=int(input('원하는 횟수를 입력하세요'))\n",
    "DF = searchcount(number)\n",
    "DF\n",
    "\n"
   ]
  },
  {
   "cell_type": "code",
   "execution_count": null,
   "metadata": {},
   "outputs": [],
   "source": []
  }
 ],
 "metadata": {
  "kernelspec": {
   "display_name": "Python 3",
   "language": "python",
   "name": "python3"
  },
  "language_info": {
   "codemirror_mode": {
    "name": "ipython",
    "version": 3
   },
   "file_extension": ".py",
   "mimetype": "text/x-python",
   "name": "python",
   "nbconvert_exporter": "python",
   "pygments_lexer": "ipython3",
   "version": "3.12.4"
  }
 },
 "nbformat": 4,
 "nbformat_minor": 2
}
