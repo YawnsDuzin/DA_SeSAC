{
 "cells": [
  {
   "cell_type": "code",
   "execution_count": 3,
   "metadata": {},
   "outputs": [],
   "source": [
    "import requests\n",
    "from bs4 import BeautifulSoup\n",
    "import pandas as pd\n",
    "\n",
    "\n",
    "header = {\n",
    "    'User-Agent' : 'Mozilla/5.0',\n",
    "    'Referer' : 'https://kin.naver.com/'\n",
    "}\n",
    "data = []\n",
    "for i in range(1,5):\n",
    "    url=f\"https://kin.naver.com/search/list.naver?query=%EB%B9%85%EB%8D%B0%EC%9D%B4%ED%84%B0&page={i}\"\n",
    "    response = requests.get(url, headers=header)\n",
    "    if response.status_code==200:\n",
    "        html = response.text\n",
    "        soup=BeautifulSoup(html,'html.parser')\n",
    "\n",
    "        items= soup.select(\"dl\")\n",
    "\n",
    "\n",
    "        for question in items:\n",
    "            title=question.select_one(\"a\").text.strip()\n",
    "            link=question.select_one(\"a\").attrs[\"href\"].strip()\n",
    "            date=question.select_one(\"dd.txt_inline\").text.strip()\n",
    "            category=question.select_one(\".txt_block\").contents[3].text.strip()\n",
    "            answer=question.select_one(\".hit\").text.strip()\n",
    "            data.append([title, link, date, category, answer])\n",
    "                   \n",
    "        if soup.select_one(\"._nclicks\\\\:kin\\\\.next\") == None:\n",
    "            break \n",
    "    else:\n",
    "        print(\"실패: \", response.status_code)\n",
    "\n",
    "df = pd.DataFrame(data, columns=[\"제목\", \"링크\", \"날짜\", \"카테고리\", \"답변수\"])\n",
    "df.to_excel('kin.xlsx') \n",
    "        \n",
    "    "
   ]
  }
 ],
 "metadata": {
  "kernelspec": {
   "display_name": "Python 3",
   "language": "python",
   "name": "python3"
  },
  "language_info": {
   "codemirror_mode": {
    "name": "ipython",
    "version": 3
   },
   "file_extension": ".py",
   "mimetype": "text/x-python",
   "name": "python",
   "nbconvert_exporter": "python",
   "pygments_lexer": "ipython3",
   "version": "3.12.4"
  }
 },
 "nbformat": 4,
 "nbformat_minor": 2
}
