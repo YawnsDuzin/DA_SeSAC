{
 "cells": [
  {
   "cell_type": "markdown",
   "metadata": {},
   "source": [
    "### 과제) 네이버 지식인에서 키워드 검색 결과 파싱하기"
   ]
  },
  {
   "cell_type": "markdown",
   "metadata": {},
   "source": [
    "** 제목/링크/날짜/카테고리/답변수 (페이지수는 사용자가 정한만큼 가져오기)\n",
    "\n",
    "** 주의사항 : 클래스 이름에 특수문자가 있는 경우 > 특수문자 앞에 \\\\ 처리 필요"
   ]
  },
  {
   "cell_type": "code",
   "execution_count": 43,
   "metadata": {},
   "outputs": [],
   "source": [
    "from bs4 import BeautifulSoup\n",
    "import pandas as pd\n",
    "import requests"
   ]
  },
  {
   "cell_type": "code",
   "execution_count": 41,
   "metadata": {},
   "outputs": [],
   "source": [
    "header = {\n",
    "    'User-Agent' : 'Mozilla/5.0',\n",
    "    'Referer' : 'https://kin.naver.com/'\n",
    "}\n",
    "\n",
    "data = []\n",
    "\n",
    "for i in range(1,50):\n",
    "    url = f'https://kin.naver.com/search/list.naver?query=%EC%98%81%ED%99%94%EC%B6%94%EC%B2%9C&page={i}'\n",
    "    response = requests.get(url, headers=header)\n",
    "\n",
    "    if response.status_code == 200:\n",
    "        html = response.text\n",
    "        soup = BeautifulSoup(html,'html.parser')\n",
    "        posts = soup.select('.basic1')\n",
    "\n",
    "        for post in posts:  \n",
    "            title = post.select_one('dt').text.strip()       #주의) dt는 클래스가 아니니까 .을 찍지 않는다!\n",
    "            link = post.select_one('dt>a').attrs['href'].strip()\n",
    "            date = post.select_one('dd').text.strip()\n",
    "            category = post.select_one('dd a:nth-child(2)').text.strip()\n",
    "            acount = post.select_one('.hit').text.strip()\n",
    "        \n",
    "            #print(acount,category,title,date,link)\n",
    "            data.append([title,link,date,category,acount])\n",
    "\n",
    "        df = pd.DataFrame(data,columns=['제목','링크','날짜','카테고리','답변수'])\n",
    "        df.to_excel('nvaerkin.xlsx', index=False)\n",
    "\n",
    "    else:\n",
    "        print(\"실패:\", response.status_code)"
   ]
  }
 ],
 "metadata": {
  "kernelspec": {
   "display_name": "Python 3",
   "language": "python",
   "name": "python3"
  },
  "language_info": {
   "codemirror_mode": {
    "name": "ipython",
    "version": 3
   },
   "file_extension": ".py",
   "mimetype": "text/x-python",
   "name": "python",
   "nbconvert_exporter": "python",
   "pygments_lexer": "ipython3",
   "version": "3.12.4"
  }
 },
 "nbformat": 4,
 "nbformat_minor": 2
}
