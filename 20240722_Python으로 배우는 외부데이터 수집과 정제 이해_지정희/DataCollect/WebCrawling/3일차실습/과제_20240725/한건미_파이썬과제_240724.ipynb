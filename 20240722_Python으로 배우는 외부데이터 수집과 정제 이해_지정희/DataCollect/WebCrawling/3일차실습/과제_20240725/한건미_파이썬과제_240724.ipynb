{
 "cells": [
  {
   "cell_type": "code",
   "execution_count": 1,
   "metadata": {},
   "outputs": [],
   "source": [
    "import requests \n",
    "from bs4 import BeautifulSoup\n",
    "import pandas as pd"
   ]
  },
  {
   "cell_type": "code",
   "execution_count": 14,
   "metadata": {},
   "outputs": [
    {
     "name": "stdout",
     "output_type": "stream",
     "text": [
      "답변수 7\n",
      "답변수 2\n",
      "답변수 4\n",
      "답변수 3\n",
      "답변수 6\n",
      "답변수 2\n",
      "답변수 2\n",
      "답변수 2\n",
      "답변수 4\n",
      "답변수 2\n",
      "답변수 1\n",
      "답변수 9\n",
      "답변수 8\n",
      "답변수 1\n",
      "답변수 3\n",
      "답변수 1\n",
      "답변수 3\n",
      "답변수 1\n",
      "답변수 2\n",
      "답변수 1\n"
     ]
    }
   ],
   "source": [
    "data = []\n",
    "for i in range(1,3):\n",
    "    url = f'https://kin.naver.com/search/list.naver?query=%EB%B9%85%EB%8D%B0%EC%9D%B4%ED%84%B0&page={i}'\n",
    "        \n",
    "        \n",
    "    header = {\n",
    "        'User-Agent' : 'Mozilla/5.0',\n",
    "        'Referer' : 'https://www.melon.com/chart/index.htm'\n",
    "    }\n",
    "\n",
    "    response = requests.get(url, headers=header)\n",
    "\n",
    "    if response.status_code == 200 :\n",
    "        result = response.text\n",
    "        soup = BeautifulSoup(result, 'html.parser')\n",
    "        list = soup.select('.basic1>li')\n",
    "        #print(list)\n",
    "        \n",
    "        for search in list :\n",
    "            title = search.select_one('dl a').text.strip()\n",
    "            #print(title)\n",
    "            link = search.select_one('dl a').attrs['href'].strip()\n",
    "            #print(link)\n",
    "            day = search.select_one('.txt\\\\_inline').text.strip()\n",
    "            #print(day)\n",
    "            cate = search.select_one('.txt_block a:nth-child(2)').text.strip()\n",
    "            #print(cate)\n",
    "            ans = search.select_one('.hit').text.strip()\n",
    "            print(ans)\n",
    "            data.append([title, link, day, cate, ans])\n",
    "\n",
    "        if soup.select_one('.s\\\\_paging') == None :\n",
    "            break\n",
    "    else:\n",
    "        print(\"실패 : \", response.status_code)\n",
    "df = pd.DataFrame(data, columns = ['제목', '링크', '날짜', '카테고리', '답변수'])\n",
    "            #print(df)\n",
    "df.to_excel('naverintell.xlsx', index=False)\n",
    "\n"
   ]
  },
  {
   "cell_type": "code",
   "execution_count": null,
   "metadata": {},
   "outputs": [],
   "source": []
  }
 ],
 "metadata": {
  "kernelspec": {
   "display_name": "Python 3",
   "language": "python",
   "name": "python3"
  },
  "language_info": {
   "codemirror_mode": {
    "name": "ipython",
    "version": 3
   },
   "file_extension": ".py",
   "mimetype": "text/x-python",
   "name": "python",
   "nbconvert_exporter": "python",
   "pygments_lexer": "ipython3",
   "version": "3.12.4"
  }
 },
 "nbformat": 4,
 "nbformat_minor": 2
}
