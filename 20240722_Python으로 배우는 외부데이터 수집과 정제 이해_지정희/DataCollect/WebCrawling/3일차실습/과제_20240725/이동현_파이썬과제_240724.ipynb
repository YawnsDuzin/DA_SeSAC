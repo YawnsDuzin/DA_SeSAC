{
 "cells": [
  {
   "cell_type": "markdown",
   "metadata": {},
   "source": [
    "네이버 지식인에서 키워드 검색(예,빅데이터)결과 파싱하기 \n",
    "\n",
    "https://kin.naver.com/\n",
    "\n",
    "제목/링크/날짜/카테고리/답변수 \n",
    "\n",
    "    -주의)클래스 이름에 특수문자가 있는 경우 \\\\처리해야함 \n",
    "    \n",
    "사용자가 정한 페이지 수 만큼 가져오기"
   ]
  },
  {
   "cell_type": "code",
   "execution_count": 3,
   "metadata": {},
   "outputs": [],
   "source": [
    "import requests\n",
    "import pandas as pd\n",
    "from lxml import etree\n",
    "from bs4 import BeautifulSoup\n",
    "import openpyxl"
   ]
  },
  {
   "cell_type": "code",
   "execution_count": 14,
   "metadata": {},
   "outputs": [],
   "source": [
    "url='https://kin.naver.com/search/list.naver?'\n",
    "param={}\n",
    "data=[]\n",
    "param['query']=input(\"검색할 내용을 적어라.\")\n",
    "pages=int(input(\"검색할 페이지 수를 정하라\"))\n",
    "for i in range(1,pages+1):\n",
    "    param['page']=i\n",
    "    response=requests.get(url,params=param)\n",
    "    if response.status_code==200:\n",
    "       html=response.text\n",
    "       soup=BeautifulSoup(html,'html.parser')\n",
    "       searches=soup.select('.basic1>li')\n",
    "       for search in searches:\n",
    "           title=search.select_one('._nclicks\\\\:kin\\\\.txt._searchListTitleAnchor').text.strip()\n",
    "           link=search.select_one('._nclicks\\\\:kin\\\\.txt._searchListTitleAnchor').attrs['href'].strip()\n",
    "           date=search.select_one('.txt_inline').text.strip()\n",
    "           category=search.select_one('.txt_g1._nclicks\\\\:kin\\\\.cat2').text.strip()\n",
    "           answer_num=search.select_one('.hit').text.strip()\n",
    "           data.append([title,link,date,category,answer_num])\n",
    "       df=pd.DataFrame(data,columns=['제목','링크','날짜','카테고리','답변수'])\n",
    "       df.to_excel('지식in검색.xlsx',index=False)\n",
    "    else:\n",
    "       print(\"ERROR CODE \",response.status_code)"
   ]
  },
  {
   "cell_type": "code",
   "execution_count": null,
   "metadata": {},
   "outputs": [],
   "source": []
  }
 ],
 "metadata": {
  "kernelspec": {
   "display_name": "Python 3",
   "language": "python",
   "name": "python3"
  },
  "language_info": {
   "codemirror_mode": {
    "name": "ipython",
    "version": 3
   },
   "file_extension": ".py",
   "mimetype": "text/x-python",
   "name": "python",
   "nbconvert_exporter": "python",
   "pygments_lexer": "ipython3",
   "version": "3.12.4"
  }
 },
 "nbformat": 4,
 "nbformat_minor": 2
}
