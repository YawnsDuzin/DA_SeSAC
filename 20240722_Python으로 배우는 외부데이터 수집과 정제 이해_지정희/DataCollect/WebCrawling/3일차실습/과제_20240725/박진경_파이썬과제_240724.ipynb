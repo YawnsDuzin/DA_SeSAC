{
 "cells": [
  {
   "cell_type": "markdown",
   "metadata": {},
   "source": [
    "#### 제목, 링크, 날짜, 카테고리, 답변수"
   ]
  },
  {
   "cell_type": "code",
   "execution_count": 5,
   "metadata": {},
   "outputs": [],
   "source": [
    "import requests\n",
    "from bs4 import BeautifulSoup\n",
    "import pandas as pd\n",
    "\n",
    "data = [] \n",
    "for i in range(1,int(input('페이지수'))):\n",
    "    url = f'https://kin.naver.com/search/list.naver?query=%EB%B9%85%EB%8D%B0%EC%9D%B4%ED%84%B0&page={i}'\n",
    "    response = requests.get(url)\n",
    "    if response.status_code == 200:\n",
    "        html = response.text\n",
    "        soup = BeautifulSoup(html, 'html.parser')\n",
    "        qnas = soup.select('.basic1>li')\n",
    "\n",
    "        for qna in qnas:\n",
    "            title = qna.select_one('dt').text.strip()\n",
    "            link = qna.select_one('dt>a')['href'].strip()\n",
    "            date = qna.select_one('.txt_inline').text.strip()\n",
    "            category = qna.select_one('.txt_block>a:nth-child(2)').text.strip()\n",
    "            answer = qna.select_one('.txt_block>.hit').text.strip()\n",
    "            # print(title,link,date,category,answer)\n",
    "            data.append([title,link,date,category,answer])\n",
    "        if soup.select_one('.s_paging>a:nth-child(10)') == None:\n",
    "            break\n",
    "    \n",
    "    else:\n",
    "        print(\"실패: \", response.status_code)\n",
    "\n",
    "df = pd.DataFrame(data, columns=['제목','링크','날짜','카테고리','답변수'])\n",
    "df.to_excel('naverqna.xlsx', index=False)"
   ]
  }
 ],
 "metadata": {
  "kernelspec": {
   "display_name": "Python 3",
   "language": "python",
   "name": "python3"
  },
  "language_info": {
   "codemirror_mode": {
    "name": "ipython",
    "version": 3
   },
   "file_extension": ".py",
   "mimetype": "text/x-python",
   "name": "python",
   "nbconvert_exporter": "python",
   "pygments_lexer": "ipython3",
   "version": "3.12.4"
  }
 },
 "nbformat": 4,
 "nbformat_minor": 2
}
