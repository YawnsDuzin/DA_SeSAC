{
 "cells": [
  {
   "cell_type": "code",
   "execution_count": null,
   "metadata": {},
   "outputs": [],
   "source": [
    "pages = int(input('가져오고 싶은 페이지 수를 입력하세요'))\n",
    "\n",
    "for i in range(1 , pages +1):"
   ]
  },
  {
   "cell_type": "code",
   "execution_count": 24,
   "metadata": {},
   "outputs": [],
   "source": [
    "import requests \n",
    "from bs4 import BeautifulSoup\n",
    "import pandas as pd\n",
    "\n",
    "data = []\n",
    "pages = int(input('가져오고 싶은 페이지 수를 입력하세요'))\n",
    "for i in range(1 , pages +1):\n",
    "\n",
    "    url = f'https://kin.naver.com/search/list.naver?query=%EB%B9%85%EB%8D%B0%EC%9D%B4%ED%84%B0&page={i}'\n",
    "\n",
    "    header ={\n",
    "        'User-Agent' : 'Mozilla/5.0',\n",
    "        'Referer' : url\n",
    "    }\n",
    "\n",
    "    response = requests.get(url, headers = header)\n",
    "\n",
    "    if response.status_code == 200:\n",
    "        html = response.text\n",
    "        soup = BeautifulSoup(html, 'html.parser')\n",
    "        news = soup.select('.basic1>li')\n",
    "        \n",
    "        for i in news:\n",
    "            name = i.select_one('dt').text.strip()\n",
    "            link = i.select_one('dt>a').attrs['href'].strip()\n",
    "            date = i.select_one('.txt_inline').text.strip()\n",
    "            category = i.select_one('.txt_block').contents[3].text.strip()\n",
    "            answer = i.select_one('.hit').text.strip()\n",
    "\n",
    "            data.append([name, link, date,category,answer ])\n",
    "        df = pd.DataFrame(data, columns = ['제목', '링크', '날짜', '카테고리','답변수'])\n",
    "        df.to_excel('naverinfo.xlsx', index=False)\n",
    "            #print(name,link,date,category,answer)\n",
    "        if soup.select_one('.next,_nclicks\\\\:kin\\\\.next') == None:\n",
    "            break\n",
    "\n",
    "\n",
    "    else:\n",
    "        print(\"오류 : \", response.status_code)"
   ]
  }
 ],
 "metadata": {
  "kernelspec": {
   "display_name": "Python 3",
   "language": "python",
   "name": "python3"
  },
  "language_info": {
   "codemirror_mode": {
    "name": "ipython",
    "version": 3
   },
   "file_extension": ".py",
   "mimetype": "text/x-python",
   "name": "python",
   "nbconvert_exporter": "python",
   "pygments_lexer": "ipython3",
   "version": "3.12.4"
  }
 },
 "nbformat": 4,
 "nbformat_minor": 2
}
