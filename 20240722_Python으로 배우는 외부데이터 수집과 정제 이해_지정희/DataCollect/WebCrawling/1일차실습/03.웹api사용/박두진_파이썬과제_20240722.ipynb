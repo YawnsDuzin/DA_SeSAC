{
 "cells": [
  {
   "cell_type": "markdown",
   "metadata": {},
   "source": [
    "## 실습(새우깡)"
   ]
  },
  {
   "cell_type": "markdown",
   "metadata": {},
   "source": []
  },
  {
   "cell_type": "markdown",
   "metadata": {},
   "source": [
    "## Case. dzP"
   ]
  },
  {
   "cell_type": "code",
   "execution_count": 10,
   "metadata": {},
   "outputs": [
    {
     "name": "stdout",
     "output_type": "stream",
     "text": [
      "{'header': {'resultCode': '00', 'resultMsg': 'NORMAL SERVICE.'}, 'body': {'pageNo': 1, 'totalCount': 8, 'numOfRows': 10, 'items': [{'DESC_KOR': '과자,DHA새우깡', 'SERVING_WT': '30', 'NUTR_CONT1': '151.20', 'NUTR_CONT2': '18.12', 'NUTR_CONT3': '1.80', 'NUTR_CONT4': '7.35', 'NUTR_CONT5': 'N/A', 'NUTR_CONT6': '210.00', 'NUTR_CONT7': 'N/A', 'NUTR_CONT8': 'N/A', 'NUTR_CONT9': 'N/A', 'BGN_YEAR': '2006', 'ANIMAL_PLANT': '농심'}, {'DESC_KOR': '과자,DHA새우깡', 'SERVING_WT': '30', 'NUTR_CONT1': '45.36', 'NUTR_CONT2': '5.44', 'NUTR_CONT3': '0.54', 'NUTR_CONT4': '2.20', 'NUTR_CONT5': '0.30', 'NUTR_CONT6': '63.00', 'NUTR_CONT7': '0.00', 'NUTR_CONT8': '0.00', 'NUTR_CONT9': '0.00', 'BGN_YEAR': '2017', 'ANIMAL_PLANT': '농심'}, {'DESC_KOR': '새우깡', 'SERVING_WT': '30', 'NUTR_CONT1': '146.67', 'NUTR_CONT2': '20.00', 'NUTR_CONT3': '2.00', 'NUTR_CONT4': '6.67', 'NUTR_CONT5': '1.33', 'NUTR_CONT6': '180.00', 'NUTR_CONT7': '0.00', 'NUTR_CONT8': '2.13', 'NUTR_CONT9': '0.00', 'BGN_YEAR': '2015', 'ANIMAL_PLANT': '농심'}, {'DESC_KOR': '새우깡', 'SERVING_WT': '30', 'NUTR_CONT1': '44.00', 'NUTR_CONT2': '6.00', 'NUTR_CONT3': '0.60', 'NUTR_CONT4': '2.00', 'NUTR_CONT5': '0.30', 'NUTR_CONT6': '54.00', 'NUTR_CONT7': '0.00', 'NUTR_CONT8': '0.64', 'NUTR_CONT9': '0.00', 'BGN_YEAR': '2017', 'ANIMAL_PLANT': '농심'}, {'DESC_KOR': '매운새우깡', 'SERVING_WT': '30', 'NUTR_CONT1': '146.67', 'NUTR_CONT2': '20.00', 'NUTR_CONT3': '2.00', 'NUTR_CONT4': '6.67', 'NUTR_CONT5': '1.33', 'NUTR_CONT6': '213.33', 'NUTR_CONT7': '0.00', 'NUTR_CONT8': '2.13', 'NUTR_CONT9': '0.00', 'BGN_YEAR': '2015', 'ANIMAL_PLANT': '농심'}, {'DESC_KOR': '매운새우깡', 'SERVING_WT': '30', 'NUTR_CONT1': '44.00', 'NUTR_CONT2': '6.00', 'NUTR_CONT3': '0.60', 'NUTR_CONT4': '2.00', 'NUTR_CONT5': '0.60', 'NUTR_CONT6': '64.00', 'NUTR_CONT7': '0.00', 'NUTR_CONT8': '0.64', 'NUTR_CONT9': '0.00', 'BGN_YEAR': '2017', 'ANIMAL_PLANT': '농심'}, {'DESC_KOR': '쌀새우깡', 'SERVING_WT': '30', 'NUTR_CONT1': '150.00', 'NUTR_CONT2': '19.50', 'NUTR_CONT3': '1.50', 'NUTR_CONT4': '7.50', 'NUTR_CONT5': '1.50', 'NUTR_CONT6': '157.50', 'NUTR_CONT7': '0.00', 'NUTR_CONT8': '2.17', 'NUTR_CONT9': '0.00', 'BGN_YEAR': '2015', 'ANIMAL_PLANT': '농심'}, {'DESC_KOR': '쌀새우깡', 'SERVING_WT': '30', 'NUTR_CONT1': '45.00', 'NUTR_CONT2': '5.85', 'NUTR_CONT3': '0.45', 'NUTR_CONT4': '2.25', 'NUTR_CONT5': '0.45', 'NUTR_CONT6': '47.25', 'NUTR_CONT7': '0.00', 'NUTR_CONT8': '0.65', 'NUTR_CONT9': '0.00', 'BGN_YEAR': '2017', 'ANIMAL_PLANT': '농심'}]}}\n"
     ]
    }
   ],
   "source": [
    "# Python3 샘플 코드 #\n",
    "import requests\n",
    "import pandas as pd\n",
    "\n",
    "import keys     # key값 저장 파이썬 파일\n",
    "\n",
    "# 일반 인증키 (Decoding) 사용\n",
    "#apikey = 'CTYRyVuDwSNng8WPJCY6Lm0A9JtQXyNRYn+7lI8FhtdmOgAF5g3dKjtS6AVkxJGU+dJXoZ2cmlEwbt7r6H1QsA=='\n",
    "apikey = keys.key1\n",
    "\n",
    "url = 'http://apis.data.go.kr/1471000/FoodNtrIrdntInfoService1/getFoodNtrItdntList1'\n",
    "\n",
    "# 새우깡 \n",
    "#  (식품이름, 열량, 1회제공량, 구축년도) DataFrame 형태로 반환\n",
    "params ={'serviceKey' : apikey, \n",
    "         'desc_kor' : '새우깡', \n",
    "         'type' : 'json' }\n",
    "\n",
    "response = requests.get(url, params=params)\n",
    "\n",
    "if response.status_code == 200:\n",
    "    result = response.json()\n",
    "    print(result)\n",
    "else:\n",
    "    print('실패 : ', response.status_code)"
   ]
  },
  {
   "cell_type": "code",
   "execution_count": 2,
   "metadata": {},
   "outputs": [
    {
     "name": "stdout",
     "output_type": "stream",
     "text": [
      "과자,DHA새우깡 151.20 30 2006\n",
      "과자,DHA새우깡 45.36 30 2017\n",
      "새우깡 146.67 30 2015\n",
      "새우깡 44.00 30 2017\n",
      "매운새우깡 146.67 30 2015\n",
      "매운새우깡 44.00 30 2017\n",
      "쌀새우깡 150.00 30 2015\n",
      "쌀새우깡 45.00 30 2017\n"
     ]
    }
   ],
   "source": [
    "for item in result['body']['items']:\n",
    "    print(item['DESC_KOR'], item['NUTR_CONT1'], item['SERVING_WT'], item['BGN_YEAR'])"
   ]
  },
  {
   "cell_type": "code",
   "execution_count": 8,
   "metadata": {},
   "outputs": [
    {
     "name": "stdout",
     "output_type": "stream",
     "text": [
      "0 DESC_KOR\n",
      "1 SERVING_WT\n",
      "2 NUTR_CONT1\n",
      "3 NUTR_CONT2\n",
      "4 NUTR_CONT3\n",
      "5 NUTR_CONT4\n",
      "6 NUTR_CONT5\n",
      "7 NUTR_CONT6\n",
      "8 NUTR_CONT7\n",
      "9 NUTR_CONT8\n",
      "10 NUTR_CONT9\n",
      "11 BGN_YEAR\n",
      "12 ANIMAL_PLANT\n"
     ]
    }
   ],
   "source": [
    "df = pd.DataFrame(result['body']['items'])\n",
    "df.columns\n",
    "\n",
    "for i,j in enumerate(df.columns):\n",
    "    print(i, j)"
   ]
  },
  {
   "cell_type": "code",
   "execution_count": 23,
   "metadata": {},
   "outputs": [
    {
     "ename": "TypeError",
     "evalue": "list indices must be integers or slices, not list",
     "output_type": "error",
     "traceback": [
      "\u001b[1;31m---------------------------------------------------------------------------\u001b[0m",
      "\u001b[1;31mTypeError\u001b[0m                                 Traceback (most recent call last)",
      "Cell \u001b[1;32mIn[23], line 1\u001b[0m\n\u001b[1;32m----> 1\u001b[0m df2 \u001b[38;5;241m=\u001b[39m pd\u001b[38;5;241m.\u001b[39mDataFrame(\u001b[43mresult\u001b[49m\u001b[43m[\u001b[49m\u001b[38;5;124;43m'\u001b[39;49m\u001b[38;5;124;43mbody\u001b[39;49m\u001b[38;5;124;43m'\u001b[39;49m\u001b[43m]\u001b[49m\u001b[43m[\u001b[49m\u001b[38;5;124;43m'\u001b[39;49m\u001b[38;5;124;43mitems\u001b[39;49m\u001b[38;5;124;43m'\u001b[39;49m\u001b[43m]\u001b[49m\u001b[43m[\u001b[49m\u001b[43m[\u001b[49m\u001b[38;5;124;43m'\u001b[39;49m\u001b[38;5;124;43mDESC_KOR\u001b[39;49m\u001b[38;5;124;43m'\u001b[39;49m\u001b[43m,\u001b[49m\u001b[43m \u001b[49m\u001b[38;5;124;43m'\u001b[39;49m\u001b[38;5;124;43mNUTR_CONT1\u001b[39;49m\u001b[38;5;124;43m'\u001b[39;49m\u001b[43m,\u001b[49m\u001b[43m \u001b[49m\u001b[38;5;124;43m'\u001b[39;49m\u001b[38;5;124;43mSERVING_WT\u001b[39;49m\u001b[38;5;124;43m'\u001b[39;49m\u001b[43m,\u001b[49m\u001b[43m \u001b[49m\u001b[38;5;124;43m'\u001b[39;49m\u001b[38;5;124;43mBGN_YEAR\u001b[39;49m\u001b[38;5;124;43m'\u001b[39;49m\u001b[43m]\u001b[49m\u001b[43m]\u001b[49m)\n\u001b[0;32m      2\u001b[0m \u001b[38;5;66;03m# df2 = pd.DataFrame(result['body']['items'], columns = ['식품이름', '열량 (kcal)', '1회제공량 (g)', '구축년도']).reindex(columns=['DESC_KOR', 'NUTR_CONT1', 'SERVING_WT', 'BGN_YEAR'])\u001b[39;00m\n\u001b[0;32m      4\u001b[0m df2\n",
      "\u001b[1;31mTypeError\u001b[0m: list indices must be integers or slices, not list"
     ]
    }
   ],
   "source": [
    "\n",
    "df2 = pd.DataFrame(result['body']['items'][['DESC_KOR', 'NUTR_CONT1', 'SERVING_WT', 'BGN_YEAR']])\n",
    "# df2 = pd.DataFrame(result['body']['items'], columns = ['식품이름', '열량 (kcal)', '1회제공량 (g)', '구축년도']).reindex(columns=['DESC_KOR', 'NUTR_CONT1', 'SERVING_WT', 'BGN_YEAR'])\n",
    "\n",
    "df2"
   ]
  },
  {
   "cell_type": "code",
   "execution_count": 36,
   "metadata": {},
   "outputs": [
    {
     "data": {
      "text/html": [
       "<div>\n",
       "<style scoped>\n",
       "    .dataframe tbody tr th:only-of-type {\n",
       "        vertical-align: middle;\n",
       "    }\n",
       "\n",
       "    .dataframe tbody tr th {\n",
       "        vertical-align: top;\n",
       "    }\n",
       "\n",
       "    .dataframe thead th {\n",
       "        text-align: right;\n",
       "    }\n",
       "</style>\n",
       "<table border=\"1\" class=\"dataframe\">\n",
       "  <thead>\n",
       "    <tr style=\"text-align: right;\">\n",
       "      <th></th>\n",
       "      <th>식품이름</th>\n",
       "      <th>열량 (kcal)</th>\n",
       "      <th>1회제공량 (g)</th>\n",
       "      <th>구축년도</th>\n",
       "    </tr>\n",
       "  </thead>\n",
       "  <tbody>\n",
       "    <tr>\n",
       "      <th>0</th>\n",
       "      <td>과자,DHA새우깡</td>\n",
       "      <td>151.20</td>\n",
       "      <td>30</td>\n",
       "      <td>2006</td>\n",
       "    </tr>\n",
       "    <tr>\n",
       "      <th>1</th>\n",
       "      <td>과자,DHA새우깡</td>\n",
       "      <td>45.36</td>\n",
       "      <td>30</td>\n",
       "      <td>2017</td>\n",
       "    </tr>\n",
       "    <tr>\n",
       "      <th>2</th>\n",
       "      <td>새우깡</td>\n",
       "      <td>146.67</td>\n",
       "      <td>30</td>\n",
       "      <td>2015</td>\n",
       "    </tr>\n",
       "    <tr>\n",
       "      <th>3</th>\n",
       "      <td>새우깡</td>\n",
       "      <td>44.00</td>\n",
       "      <td>30</td>\n",
       "      <td>2017</td>\n",
       "    </tr>\n",
       "    <tr>\n",
       "      <th>4</th>\n",
       "      <td>매운새우깡</td>\n",
       "      <td>146.67</td>\n",
       "      <td>30</td>\n",
       "      <td>2015</td>\n",
       "    </tr>\n",
       "    <tr>\n",
       "      <th>5</th>\n",
       "      <td>매운새우깡</td>\n",
       "      <td>44.00</td>\n",
       "      <td>30</td>\n",
       "      <td>2017</td>\n",
       "    </tr>\n",
       "    <tr>\n",
       "      <th>6</th>\n",
       "      <td>쌀새우깡</td>\n",
       "      <td>150.00</td>\n",
       "      <td>30</td>\n",
       "      <td>2015</td>\n",
       "    </tr>\n",
       "    <tr>\n",
       "      <th>7</th>\n",
       "      <td>쌀새우깡</td>\n",
       "      <td>45.00</td>\n",
       "      <td>30</td>\n",
       "      <td>2017</td>\n",
       "    </tr>\n",
       "  </tbody>\n",
       "</table>\n",
       "</div>"
      ],
      "text/plain": [
       "        식품이름 열량 (kcal) 1회제공량 (g)  구축년도\n",
       "0  과자,DHA새우깡    151.20        30  2006\n",
       "1  과자,DHA새우깡     45.36        30  2017\n",
       "2        새우깡    146.67        30  2015\n",
       "3        새우깡     44.00        30  2017\n",
       "4      매운새우깡    146.67        30  2015\n",
       "5      매운새우깡     44.00        30  2017\n",
       "6       쌀새우깡    150.00        30  2015\n",
       "7       쌀새우깡     45.00        30  2017"
      ]
     },
     "execution_count": 36,
     "metadata": {},
     "output_type": "execute_result"
    }
   ],
   "source": [
    "# 식품이름(DESC_KOR)\n",
    "# 열량 (kcal) (NUTR_CONT1)\n",
    "# 1회제공량 (g) (SERVING_WT)\n",
    "# 구축년도 (BGN_YEAR)\n",
    "\n",
    "df = pd.DataFrame(result['body']['items'])\n",
    "\n",
    "# ===========================================================================\n",
    "# Column Select\n",
    "# Case1\n",
    "#df2 = df[['DESC_KOR', 'NUTR_CONT1', 'SERVING_WT', 'BGN_YEAR']]\n",
    "#df2 = df[['DESC_KOR', 'NUTR_CONT1', 'SERVING_WT', 'BGN_YEAR']][:]\n",
    "#df2 = df.loc[:, ['DESC_KOR', 'NUTR_CONT1', 'SERVING_WT', 'BGN_YEAR']]\n",
    "df2 = df.iloc[:, [0, 2, 1, 11]]\n",
    "# ===========================================================================\n",
    "\n",
    "\n",
    "# ===========================================================================\n",
    "# Column Rename\n",
    "# Case1\n",
    "df2.columns = ['식품이름', '열량 (kcal)', '1회제공량 (g)', '구축년도']\n",
    "# Case2\n",
    "# newcols = {'DESC_KOR' : '식품이름', 'NUTR_CONT1' : '열량 (kcal)', 'SERVING_WT' : '1회제공량 (g)', 'BGN_YEAR' : '구축년도'}\n",
    "# df2.rename(columns=newcols, inplace=True)\n",
    "# ===========================================================================\n",
    "\n",
    "df2"
   ]
  },
  {
   "cell_type": "markdown",
   "metadata": {},
   "source": [
    "## Case. Teach"
   ]
  },
  {
   "cell_type": "code",
   "execution_count": 20,
   "metadata": {},
   "outputs": [
    {
     "name": "stdout",
     "output_type": "stream",
     "text": [
      "        식품이름  1회 제공량  열량  조사년도\n",
      "0  과자,DHA새우깡  151.20  30  2006\n",
      "1  과자,DHA새우깡   45.36  30  2017\n",
      "2        새우깡  146.67  30  2015\n",
      "3        새우깡   44.00  30  2017\n",
      "4      매운새우깡  146.67  30  2015\n",
      "5      매운새우깡   44.00  30  2017\n",
      "6       쌀새우깡  150.00  30  2015\n",
      "7       쌀새우깡   45.00  30  2017\n"
     ]
    }
   ],
   "source": [
    "# Python3 샘플 코드 #\n",
    "import requests\n",
    "import pandas as pd\n",
    "\n",
    "import keys     # key값 저장 파이썬 파일\n",
    "\n",
    "# 일반 인증키 (Decoding) 사용\n",
    "apikey = keys.key1\n",
    "\n",
    "url = 'http://apis.data.go.kr/1471000/FoodNtrIrdntInfoService1/getFoodNtrItdntList1'\n",
    "\n",
    "# 새우깡 \n",
    "#  (식품이름, 열량, 1회제공량, 구축년도) DataFrame 형태로 반환\n",
    "params ={'serviceKey' : apikey, \n",
    "         'desc_kor' : '새우깡', \n",
    "         'type' : 'json' }\n",
    "\n",
    "# 데이터 가져오기\n",
    "response = requests.get(url, params=params)\n",
    "\n",
    "if response.status_code == 200:\n",
    "    result = response.json()\n",
    "    items = result['body']['items']\n",
    "    data = []\n",
    "    for item in items:\n",
    "        # 'DESC_KOR', 'NUTR_CONT1', 'SERVING_WT', 'BGN_YEAR'\n",
    "        data.append([item['DESC_KOR'], item['NUTR_CONT1'], item['SERVING_WT'], item['BGN_YEAR']])\n",
    "        \n",
    "    df = pd.DataFrame(data, columns=['식품이름', '1회 제공량', '열량', '조사년도'])\n",
    "    print(df)\n",
    "else:\n",
    "    print('실패 : ', response.status_code)"
   ]
  },
  {
   "cell_type": "markdown",
   "metadata": {},
   "source": [
    "## 실습(API 호출 함수로 구현)"
   ]
  },
  {
   "cell_type": "code",
   "execution_count": 18,
   "metadata": {},
   "outputs": [],
   "source": [
    "def Call_API():\n",
    "    import requests\n",
    "    import pandas as pd\n",
    "\n",
    "    import keys     # key값 저장 파이썬 파일\n",
    "\n",
    "    _desc_kor = str(input('식품이름을 입력해주세요=>'))\n",
    "    print(f'{_desc_kor}를 입력하셨습니다')\n",
    "    \n",
    "    # 일반 인증키 (Decoding) 사용\n",
    "    apikey = keys.key1\n",
    "\n",
    "    url = 'http://apis.data.go.kr/1471000/FoodNtrIrdntInfoService1/getFoodNtrItdntList1'\n",
    "\n",
    "    # 새우깡 \n",
    "    #  (식품이름, 열량, 1회제공량, 구축년도) DataFrame 형태로 반환\n",
    "    params ={'serviceKey' : apikey, \n",
    "             'desc_kor' : _desc_kor, \n",
    "             'type' : 'json' }\n",
    "\n",
    "    # 데이터 가져오기\n",
    "    response = requests.get(url, params=params)\n",
    "\n",
    "    if response.status_code == 200:\n",
    "        result = response.json()   # response => json 형식으로 변환\n",
    "        # print(result)\n",
    "        if 'items' in result['body'].keys():\n",
    "        # if result['body']['totalCount'] > 0:\n",
    "            items = result['body']['items']\n",
    "        \n",
    "            # DataFrame으로 변환\n",
    "            df = pd.DataFrame(items)\n",
    "            # 컬럼 조회 (['DESC_KOR', 'NUTR_CONT1', 'SERVING_WT', 'BGN_YEAR'])\n",
    "            df = df[['DESC_KOR', 'NUTR_CONT1', 'SERVING_WT', 'BGN_YEAR']]\n",
    "            # 컬럼이름 변경 (['식품이름', '1회 제공량', '열량', '조사년도'])\n",
    "            df.columns=['식품이름', '1회 제공량', '열량', '조사년도']        \n",
    "        \n",
    "            return df\n",
    "        else:\n",
    "            # return 'f{_desc_kor}을 조회하지 못했습니다.'\n",
    "            return []\n",
    "    else:\n",
    "        return '실패 : ', response.status_code"
   ]
  },
  {
   "cell_type": "code",
   "execution_count": 19,
   "metadata": {},
   "outputs": [
    {
     "name": "stdout",
     "output_type": "stream",
     "text": [
      "마라탕를 입력하셨습니다\n"
     ]
    },
    {
     "data": {
      "text/plain": [
       "[]"
      ]
     },
     "execution_count": 19,
     "metadata": {},
     "output_type": "execute_result"
    }
   ],
   "source": [
    "Call_API()"
   ]
  },
  {
   "cell_type": "code",
   "execution_count": null,
   "metadata": {},
   "outputs": [],
   "source": []
  }
 ],
 "metadata": {
  "kernelspec": {
   "display_name": "Python 3",
   "language": "python",
   "name": "python3"
  },
  "language_info": {
   "codemirror_mode": {
    "name": "ipython",
    "version": 3
   },
   "file_extension": ".py",
   "mimetype": "text/x-python",
   "name": "python",
   "nbconvert_exporter": "python",
   "pygments_lexer": "ipython3",
   "version": "3.12.4"
  }
 },
 "nbformat": 4,
 "nbformat_minor": 2
}
