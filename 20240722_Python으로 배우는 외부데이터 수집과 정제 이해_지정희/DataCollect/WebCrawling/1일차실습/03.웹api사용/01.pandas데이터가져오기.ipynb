{
 "cells": [
  {
   "cell_type": "markdown",
   "metadata": {},
   "source": [
    "# Request 라이브러리"
   ]
  },
  {
   "cell_type": "markdown",
   "metadata": {},
   "source": [
    "## 라이브러리 설치"
   ]
  },
  {
   "cell_type": "code",
   "execution_count": null,
   "metadata": {},
   "outputs": [],
   "source": []
  },
  {
   "cell_type": "code",
   "execution_count": 1,
   "metadata": {},
   "outputs": [
    {
     "name": "stdout",
     "output_type": "stream",
     "text": [
      "Collecting requests\n",
      "  Downloading requests-2.32.3-py3-none-any.whl.metadata (4.6 kB)\n",
      "Collecting charset-normalizer<4,>=2 (from requests)\n",
      "  Downloading charset_normalizer-3.3.2-cp312-cp312-win_amd64.whl.metadata (34 kB)\n",
      "Collecting idna<4,>=2.5 (from requests)\n",
      "  Downloading idna-3.7-py3-none-any.whl.metadata (9.9 kB)\n",
      "Collecting urllib3<3,>=1.21.1 (from requests)\n",
      "  Downloading urllib3-2.2.2-py3-none-any.whl.metadata (6.4 kB)\n",
      "Collecting certifi>=2017.4.17 (from requests)\n",
      "  Downloading certifi-2024.7.4-py3-none-any.whl.metadata (2.2 kB)\n",
      "Downloading requests-2.32.3-py3-none-any.whl (64 kB)\n",
      "   ---------------------------------------- 0.0/64.9 kB ? eta -:--:--\n",
      "   ---------------------------------------- 64.9/64.9 kB 1.7 MB/s eta 0:00:00\n",
      "Downloading certifi-2024.7.4-py3-none-any.whl (162 kB)\n",
      "   ---------------------------------------- 0.0/163.0 kB ? eta -:--:--\n",
      "   --------------------------------------- 163.0/163.0 kB 10.2 MB/s eta 0:00:00\n",
      "Downloading charset_normalizer-3.3.2-cp312-cp312-win_amd64.whl (100 kB)\n",
      "   ---------------------------------------- 0.0/100.4 kB ? eta -:--:--\n",
      "   ---------------------------------------- 100.4/100.4 kB ? eta 0:00:00\n",
      "Downloading idna-3.7-py3-none-any.whl (66 kB)\n",
      "   ---------------------------------------- 0.0/66.8 kB ? eta -:--:--\n",
      "   ---------------------------------------- 66.8/66.8 kB ? eta 0:00:00\n",
      "Downloading urllib3-2.2.2-py3-none-any.whl (121 kB)\n",
      "   ---------------------------------------- 0.0/121.4 kB ? eta -:--:--\n",
      "   ---------------------------------------- 121.4/121.4 kB 7.0 MB/s eta 0:00:00\n",
      "Installing collected packages: urllib3, idna, charset-normalizer, certifi, requests\n",
      "Successfully installed certifi-2024.7.4 charset-normalizer-3.3.2 idna-3.7 requests-2.32.3 urllib3-2.2.2\n",
      "Note: you may need to restart the kernel to use updated packages.\n"
     ]
    },
    {
     "name": "stderr",
     "output_type": "stream",
     "text": [
      "\n",
      "[notice] A new release of pip is available: 24.0 -> 24.1.2\n",
      "[notice] To update, run: python.exe -m pip install --upgrade pip\n"
     ]
    }
   ],
   "source": [
    "%pip install requests"
   ]
  },
  {
   "cell_type": "code",
   "execution_count": 3,
   "metadata": {},
   "outputs": [],
   "source": [
    "import requests"
   ]
  },
  {
   "cell_type": "code",
   "execution_count": 10,
   "metadata": {},
   "outputs": [
    {
     "name": "stdout",
     "output_type": "stream",
     "text": [
      "{\"categories\":[],\"created_at\":\"2020-01-05 13:42:29.569033\",\"icon_url\":\"https://api.chucknorris.io/img/avatar/chuck-norris.png\",\"id\":\"K6vBH_8qTNOG0RnJ8vhwtw\",\"updated_at\":\"2020-01-05 13:42:29.569033\",\"url\":\"https://api.chucknorris.io/jokes/K6vBH_8qTNOG0RnJ8vhwtw\",\"value\":\"Chuck Norris regularly smashes open his computer to eat the cookies within.\"}\n"
     ]
    }
   ],
   "source": [
    "# url = 'https://www.naver.com'\n",
    "# url = 'https://api.github.com/repos/pydata/pandas/milestones/28/labels'\n",
    "url = 'https://api.chucknorris.io/jokes/random'\n",
    "response = requests.get(url)\n",
    "\n",
    "if response.status_code == 200:\n",
    "    print(response.text)\n",
    "else:\n",
    "    print(response.status_code)"
   ]
  },
  {
   "cell_type": "code",
   "execution_count": 20,
   "metadata": {},
   "outputs": [
    {
     "name": "stdout",
     "output_type": "stream",
     "text": [
      "<class 'requests.models.Response'>\n",
      "<class 'str'>\n"
     ]
    }
   ],
   "source": [
    "print(type(response))\n",
    "print(type(response.text))"
   ]
  },
  {
   "cell_type": "code",
   "execution_count": 22,
   "metadata": {},
   "outputs": [
    {
     "name": "stdout",
     "output_type": "stream",
     "text": [
      "{'categories': [], 'created_at': '2020-01-05 13:42:29.569033', 'icon_url': 'https://api.chucknorris.io/img/avatar/chuck-norris.png', 'id': 'K6vBH_8qTNOG0RnJ8vhwtw', 'updated_at': '2020-01-05 13:42:29.569033', 'url': 'https://api.chucknorris.io/jokes/K6vBH_8qTNOG0RnJ8vhwtw', 'value': 'Chuck Norris regularly smashes open his computer to eat the cookies within.'}\n",
      "<class 'dict'>\n"
     ]
    }
   ],
   "source": [
    "result = response.json()\n",
    "print(result)\n",
    "print(type(result))"
   ]
  },
  {
   "cell_type": "code",
   "execution_count": 18,
   "metadata": {},
   "outputs": [
    {
     "name": "stdout",
     "output_type": "stream",
     "text": [
      "[]\n",
      "2020-01-05 13:42:29.569033\n",
      "https://api.chucknorris.io/img/avatar/chuck-norris.png\n",
      "K6vBH_8qTNOG0RnJ8vhwtw\n",
      "2020-01-05 13:42:29.569033\n",
      "https://api.chucknorris.io/jokes/K6vBH_8qTNOG0RnJ8vhwtw\n",
      "Chuck Norris regularly smashes open his computer to eat the cookies within.\n"
     ]
    }
   ],
   "source": [
    "print(result['categories'])\n",
    "print(result['created_at'])\n",
    "print(result['icon_url'])\n",
    "print(result['id'])\n",
    "print(result['updated_at'])\n",
    "print(result['url'])\n",
    "print(result['value'])"
   ]
  },
  {
   "cell_type": "code",
   "execution_count": 14,
   "metadata": {},
   "outputs": [
    {
     "data": {
      "text/html": [
       "<div>\n",
       "<style scoped>\n",
       "    .dataframe tbody tr th:only-of-type {\n",
       "        vertical-align: middle;\n",
       "    }\n",
       "\n",
       "    .dataframe tbody tr th {\n",
       "        vertical-align: top;\n",
       "    }\n",
       "\n",
       "    .dataframe thead th {\n",
       "        text-align: right;\n",
       "    }\n",
       "</style>\n",
       "<table border=\"1\" class=\"dataframe\">\n",
       "  <thead>\n",
       "    <tr style=\"text-align: right;\">\n",
       "      <th></th>\n",
       "      <th>categories</th>\n",
       "      <th>created_at</th>\n",
       "      <th>icon_url</th>\n",
       "      <th>id</th>\n",
       "      <th>updated_at</th>\n",
       "      <th>url</th>\n",
       "      <th>value</th>\n",
       "    </tr>\n",
       "  </thead>\n",
       "  <tbody>\n",
       "  </tbody>\n",
       "</table>\n",
       "</div>"
      ],
      "text/plain": [
       "Empty DataFrame\n",
       "Columns: [categories, created_at, icon_url, id, updated_at, url, value]\n",
       "Index: []"
      ]
     },
     "execution_count": 14,
     "metadata": {},
     "output_type": "execute_result"
    }
   ],
   "source": [
    "import pandas as pd\n",
    "\n",
    "issue_labels = pd.DataFrame(result)\n",
    "issue_labels"
   ]
  },
  {
   "cell_type": "code",
   "execution_count": 46,
   "metadata": {},
   "outputs": [
    {
     "name": "stdout",
     "output_type": "stream",
     "text": [
      "{'header': {'resultCode': '00', 'resultMsg': 'NORMAL SERVICE.'}, 'body': {'pageNo': 1, 'totalCount': 1, 'numOfRows': 3, 'items': [{'DESC_KOR': '바나나칩', 'SERVING_WT': '30', 'NUTR_CONT1': '49.50', 'NUTR_CONT2': '5.40', 'NUTR_CONT3': '0.30', 'NUTR_CONT4': '3.00', 'NUTR_CONT5': '3.30', 'NUTR_CONT6': '0.60', 'NUTR_CONT7': '0.00', 'NUTR_CONT8': '2.70', 'NUTR_CONT9': '0.00', 'BGN_YEAR': '2017', 'ANIMAL_PLANT': '(유)돌코리아'}]}}\n"
     ]
    }
   ],
   "source": [
    "# Python3 샘플 코드 #\n",
    "import requests\n",
    "\n",
    "# 일반 인증키 (Decoding) 사용\n",
    "apikey = 'CTYRyVuDwSNng8WPJCY6Lm0A9JtQXyNRYn+7lI8FhtdmOgAF5g3dKjtS6AVkxJGU+dJXoZ2cmlEwbt7r6H1QsA=='\n",
    "\n",
    "url = 'http://apis.data.go.kr/1471000/FoodNtrIrdntInfoService1/getFoodNtrItdntList1'\n",
    "\n",
    "# 바나나칩\n",
    "params ={'serviceKey' : apikey, \n",
    "         'desc_kor' : '바나나칩', \n",
    "         'pageNo' : '1', \n",
    "         'numOfRows' : '3', \n",
    "         'bgn_year' : '2017', \n",
    "         'animal_plant' : '(유)돌코리아', \n",
    "         'type' : 'json' }\n",
    "\n",
    "response = requests.get(url, params=params)\n",
    "\n",
    "if response.status_code == 200:\n",
    "    result = response.json()\n",
    "    print(result)\n",
    "else:\n",
    "    print('실패 : ', response.status_code)"
   ]
  },
  {
   "cell_type": "code",
   "execution_count": 47,
   "metadata": {},
   "outputs": [
    {
     "name": "stdout",
     "output_type": "stream",
     "text": [
      "{'header': {'resultCode': '00', 'resultMsg': 'NORMAL SERVICE.'}, 'body': {'pageNo': 1, 'totalCount': 1, 'numOfRows': 3, 'items': [{'DESC_KOR': '바나나칩', 'SERVING_WT': '30', 'NUTR_CONT1': '49.50', 'NUTR_CONT2': '5.40', 'NUTR_CONT3': '0.30', 'NUTR_CONT4': '3.00', 'NUTR_CONT5': '3.30', 'NUTR_CONT6': '0.60', 'NUTR_CONT7': '0.00', 'NUTR_CONT8': '2.70', 'NUTR_CONT9': '0.00', 'BGN_YEAR': '2017', 'ANIMAL_PLANT': '(유)돌코리아'}]}}\n",
      "<class 'dict'>\n"
     ]
    }
   ],
   "source": [
    "print(result)\n",
    "print(type(result))"
   ]
  },
  {
   "cell_type": "code",
   "execution_count": 48,
   "metadata": {},
   "outputs": [
    {
     "name": "stdout",
     "output_type": "stream",
     "text": [
      "header\n",
      "body\n"
     ]
    }
   ],
   "source": [
    "for dic in result:\n",
    "    print(dic)"
   ]
  },
  {
   "cell_type": "code",
   "execution_count": 49,
   "metadata": {},
   "outputs": [
    {
     "name": "stdout",
     "output_type": "stream",
     "text": [
      "{'resultCode': '00', 'resultMsg': 'NORMAL SERVICE.'}\n",
      "{'pageNo': 1, 'totalCount': 1, 'numOfRows': 3, 'items': [{'DESC_KOR': '바나나칩', 'SERVING_WT': '30', 'NUTR_CONT1': '49.50', 'NUTR_CONT2': '5.40', 'NUTR_CONT3': '0.30', 'NUTR_CONT4': '3.00', 'NUTR_CONT5': '3.30', 'NUTR_CONT6': '0.60', 'NUTR_CONT7': '0.00', 'NUTR_CONT8': '2.70', 'NUTR_CONT9': '0.00', 'BGN_YEAR': '2017', 'ANIMAL_PLANT': '(유)돌코리아'}]}\n",
      "바나나칩\n",
      "49.50\n"
     ]
    }
   ],
   "source": [
    "print(result['header'])\n",
    "print(result['body'])\n",
    "\n",
    "print(result['body']['items'][0]['DESC_KOR'])       # 바나나칩\n",
    "print(result['body']['items'][0]['NUTR_CONT1'])     # 열량\n"
   ]
  },
  {
   "cell_type": "markdown",
   "metadata": {},
   "source": [
    "## 실습(새우깡)"
   ]
  },
  {
   "cell_type": "code",
   "execution_count": 50,
   "metadata": {},
   "outputs": [
    {
     "name": "stdout",
     "output_type": "stream",
     "text": [
      "{'header': {'resultCode': '00', 'resultMsg': 'NORMAL SERVICE.'}, 'body': {'pageNo': 1, 'totalCount': 8, 'numOfRows': 10, 'items': [{'DESC_KOR': '과자,DHA새우깡', 'SERVING_WT': '30', 'NUTR_CONT1': '151.20', 'NUTR_CONT2': '18.12', 'NUTR_CONT3': '1.80', 'NUTR_CONT4': '7.35', 'NUTR_CONT5': 'N/A', 'NUTR_CONT6': '210.00', 'NUTR_CONT7': 'N/A', 'NUTR_CONT8': 'N/A', 'NUTR_CONT9': 'N/A', 'BGN_YEAR': '2006', 'ANIMAL_PLANT': '농심'}, {'DESC_KOR': '과자,DHA새우깡', 'SERVING_WT': '30', 'NUTR_CONT1': '45.36', 'NUTR_CONT2': '5.44', 'NUTR_CONT3': '0.54', 'NUTR_CONT4': '2.20', 'NUTR_CONT5': '0.30', 'NUTR_CONT6': '63.00', 'NUTR_CONT7': '0.00', 'NUTR_CONT8': '0.00', 'NUTR_CONT9': '0.00', 'BGN_YEAR': '2017', 'ANIMAL_PLANT': '농심'}, {'DESC_KOR': '새우깡', 'SERVING_WT': '30', 'NUTR_CONT1': '146.67', 'NUTR_CONT2': '20.00', 'NUTR_CONT3': '2.00', 'NUTR_CONT4': '6.67', 'NUTR_CONT5': '1.33', 'NUTR_CONT6': '180.00', 'NUTR_CONT7': '0.00', 'NUTR_CONT8': '2.13', 'NUTR_CONT9': '0.00', 'BGN_YEAR': '2015', 'ANIMAL_PLANT': '농심'}, {'DESC_KOR': '새우깡', 'SERVING_WT': '30', 'NUTR_CONT1': '44.00', 'NUTR_CONT2': '6.00', 'NUTR_CONT3': '0.60', 'NUTR_CONT4': '2.00', 'NUTR_CONT5': '0.30', 'NUTR_CONT6': '54.00', 'NUTR_CONT7': '0.00', 'NUTR_CONT8': '0.64', 'NUTR_CONT9': '0.00', 'BGN_YEAR': '2017', 'ANIMAL_PLANT': '농심'}, {'DESC_KOR': '매운새우깡', 'SERVING_WT': '30', 'NUTR_CONT1': '146.67', 'NUTR_CONT2': '20.00', 'NUTR_CONT3': '2.00', 'NUTR_CONT4': '6.67', 'NUTR_CONT5': '1.33', 'NUTR_CONT6': '213.33', 'NUTR_CONT7': '0.00', 'NUTR_CONT8': '2.13', 'NUTR_CONT9': '0.00', 'BGN_YEAR': '2015', 'ANIMAL_PLANT': '농심'}, {'DESC_KOR': '매운새우깡', 'SERVING_WT': '30', 'NUTR_CONT1': '44.00', 'NUTR_CONT2': '6.00', 'NUTR_CONT3': '0.60', 'NUTR_CONT4': '2.00', 'NUTR_CONT5': '0.60', 'NUTR_CONT6': '64.00', 'NUTR_CONT7': '0.00', 'NUTR_CONT8': '0.64', 'NUTR_CONT9': '0.00', 'BGN_YEAR': '2017', 'ANIMAL_PLANT': '농심'}, {'DESC_KOR': '쌀새우깡', 'SERVING_WT': '30', 'NUTR_CONT1': '150.00', 'NUTR_CONT2': '19.50', 'NUTR_CONT3': '1.50', 'NUTR_CONT4': '7.50', 'NUTR_CONT5': '1.50', 'NUTR_CONT6': '157.50', 'NUTR_CONT7': '0.00', 'NUTR_CONT8': '2.17', 'NUTR_CONT9': '0.00', 'BGN_YEAR': '2015', 'ANIMAL_PLANT': '농심'}, {'DESC_KOR': '쌀새우깡', 'SERVING_WT': '30', 'NUTR_CONT1': '45.00', 'NUTR_CONT2': '5.85', 'NUTR_CONT3': '0.45', 'NUTR_CONT4': '2.25', 'NUTR_CONT5': '0.45', 'NUTR_CONT6': '47.25', 'NUTR_CONT7': '0.00', 'NUTR_CONT8': '0.65', 'NUTR_CONT9': '0.00', 'BGN_YEAR': '2017', 'ANIMAL_PLANT': '농심'}]}}\n"
     ]
    }
   ],
   "source": [
    "# Python3 샘플 코드 #\n",
    "import requests\n",
    "\n",
    "# 일반 인증키 (Decoding) 사용\n",
    "apikey = 'CTYRyVuDwSNng8WPJCY6Lm0A9JtQXyNRYn+7lI8FhtdmOgAF5g3dKjtS6AVkxJGU+dJXoZ2cmlEwbt7r6H1QsA=='\n",
    "\n",
    "url = 'http://apis.data.go.kr/1471000/FoodNtrIrdntInfoService1/getFoodNtrItdntList1'\n",
    "\n",
    "# 새우깡 \n",
    "#  (식품이름, 열량, 1회제공량, 구축년도) DataFrame 형태로 반환\n",
    "params ={'serviceKey' : apikey, \n",
    "         'desc_kor' : '새우깡', \n",
    "         'type' : 'json' }\n",
    "\n",
    "response = requests.get(url, params=params)\n",
    "\n",
    "if response.status_code == 200:\n",
    "    result = response.json()\n",
    "    print(result)\n",
    "else:\n",
    "    print('실패 : ', response.status_code)"
   ]
  },
  {
   "cell_type": "code",
   "execution_count": 65,
   "metadata": {},
   "outputs": [
    {
     "name": "stdout",
     "output_type": "stream",
     "text": [
      "과자,DHA새우깡 151.20 30 2006\n",
      "과자,DHA새우깡 45.36 30 2017\n",
      "새우깡 146.67 30 2015\n",
      "새우깡 44.00 30 2017\n",
      "매운새우깡 146.67 30 2015\n",
      "매운새우깡 44.00 30 2017\n",
      "쌀새우깡 150.00 30 2015\n",
      "쌀새우깡 45.00 30 2017\n"
     ]
    }
   ],
   "source": [
    "for item in result['body']['items']:\n",
    "    print(item['DESC_KOR'], item['NUTR_CONT1'], item['SERVING_WT'], item['BGN_YEAR'])"
   ]
  },
  {
   "cell_type": "code",
   "execution_count": 76,
   "metadata": {},
   "outputs": [
    {
     "data": {
      "text/html": [
       "<div>\n",
       "<style scoped>\n",
       "    .dataframe tbody tr th:only-of-type {\n",
       "        vertical-align: middle;\n",
       "    }\n",
       "\n",
       "    .dataframe tbody tr th {\n",
       "        vertical-align: top;\n",
       "    }\n",
       "\n",
       "    .dataframe thead th {\n",
       "        text-align: right;\n",
       "    }\n",
       "</style>\n",
       "<table border=\"1\" class=\"dataframe\">\n",
       "  <thead>\n",
       "    <tr style=\"text-align: right;\">\n",
       "      <th></th>\n",
       "      <th>식품이름</th>\n",
       "      <th>열량 (kcal)</th>\n",
       "      <th>1회제공량 (g)</th>\n",
       "      <th>구축년도</th>\n",
       "    </tr>\n",
       "  </thead>\n",
       "  <tbody>\n",
       "    <tr>\n",
       "      <th>0</th>\n",
       "      <td>과자,DHA새우깡</td>\n",
       "      <td>151.20</td>\n",
       "      <td>30</td>\n",
       "      <td>2006</td>\n",
       "    </tr>\n",
       "    <tr>\n",
       "      <th>1</th>\n",
       "      <td>과자,DHA새우깡</td>\n",
       "      <td>45.36</td>\n",
       "      <td>30</td>\n",
       "      <td>2017</td>\n",
       "    </tr>\n",
       "    <tr>\n",
       "      <th>2</th>\n",
       "      <td>새우깡</td>\n",
       "      <td>146.67</td>\n",
       "      <td>30</td>\n",
       "      <td>2015</td>\n",
       "    </tr>\n",
       "    <tr>\n",
       "      <th>3</th>\n",
       "      <td>새우깡</td>\n",
       "      <td>44.00</td>\n",
       "      <td>30</td>\n",
       "      <td>2017</td>\n",
       "    </tr>\n",
       "    <tr>\n",
       "      <th>4</th>\n",
       "      <td>매운새우깡</td>\n",
       "      <td>146.67</td>\n",
       "      <td>30</td>\n",
       "      <td>2015</td>\n",
       "    </tr>\n",
       "    <tr>\n",
       "      <th>5</th>\n",
       "      <td>매운새우깡</td>\n",
       "      <td>44.00</td>\n",
       "      <td>30</td>\n",
       "      <td>2017</td>\n",
       "    </tr>\n",
       "    <tr>\n",
       "      <th>6</th>\n",
       "      <td>쌀새우깡</td>\n",
       "      <td>150.00</td>\n",
       "      <td>30</td>\n",
       "      <td>2015</td>\n",
       "    </tr>\n",
       "    <tr>\n",
       "      <th>7</th>\n",
       "      <td>쌀새우깡</td>\n",
       "      <td>45.00</td>\n",
       "      <td>30</td>\n",
       "      <td>2017</td>\n",
       "    </tr>\n",
       "  </tbody>\n",
       "</table>\n",
       "</div>"
      ],
      "text/plain": [
       "        식품이름 열량 (kcal) 1회제공량 (g)  구축년도\n",
       "0  과자,DHA새우깡    151.20        30  2006\n",
       "1  과자,DHA새우깡     45.36        30  2017\n",
       "2        새우깡    146.67        30  2015\n",
       "3        새우깡     44.00        30  2017\n",
       "4      매운새우깡    146.67        30  2015\n",
       "5      매운새우깡     44.00        30  2017\n",
       "6       쌀새우깡    150.00        30  2015\n",
       "7       쌀새우깡     45.00        30  2017"
      ]
     },
     "execution_count": 76,
     "metadata": {},
     "output_type": "execute_result"
    }
   ],
   "source": [
    "df = pd.DataFrame(result['body']['items']).reindex(columns=['DESC_KOR', 'NUTR_CONT1', 'SERVING_WT', 'BGN_YEAR'])\n",
    "df2.columns = ['식품이름', '열량 (kcal)', '1회제공량 (g)', '구축년도']\n",
    "df2"
   ]
  },
  {
   "cell_type": "code",
   "execution_count": 63,
   "metadata": {},
   "outputs": [
    {
     "data": {
      "text/html": [
       "<div>\n",
       "<style scoped>\n",
       "    .dataframe tbody tr th:only-of-type {\n",
       "        vertical-align: middle;\n",
       "    }\n",
       "\n",
       "    .dataframe tbody tr th {\n",
       "        vertical-align: top;\n",
       "    }\n",
       "\n",
       "    .dataframe thead th {\n",
       "        text-align: right;\n",
       "    }\n",
       "</style>\n",
       "<table border=\"1\" class=\"dataframe\">\n",
       "  <thead>\n",
       "    <tr style=\"text-align: right;\">\n",
       "      <th></th>\n",
       "      <th>식품이름</th>\n",
       "      <th>열량 (kcal)</th>\n",
       "      <th>1회제공량 (g)</th>\n",
       "      <th>구축년도</th>\n",
       "    </tr>\n",
       "  </thead>\n",
       "  <tbody>\n",
       "    <tr>\n",
       "      <th>0</th>\n",
       "      <td>과자,DHA새우깡</td>\n",
       "      <td>151.20</td>\n",
       "      <td>30</td>\n",
       "      <td>2006</td>\n",
       "    </tr>\n",
       "    <tr>\n",
       "      <th>1</th>\n",
       "      <td>과자,DHA새우깡</td>\n",
       "      <td>45.36</td>\n",
       "      <td>30</td>\n",
       "      <td>2017</td>\n",
       "    </tr>\n",
       "    <tr>\n",
       "      <th>2</th>\n",
       "      <td>새우깡</td>\n",
       "      <td>146.67</td>\n",
       "      <td>30</td>\n",
       "      <td>2015</td>\n",
       "    </tr>\n",
       "    <tr>\n",
       "      <th>3</th>\n",
       "      <td>새우깡</td>\n",
       "      <td>44.00</td>\n",
       "      <td>30</td>\n",
       "      <td>2017</td>\n",
       "    </tr>\n",
       "    <tr>\n",
       "      <th>4</th>\n",
       "      <td>매운새우깡</td>\n",
       "      <td>146.67</td>\n",
       "      <td>30</td>\n",
       "      <td>2015</td>\n",
       "    </tr>\n",
       "    <tr>\n",
       "      <th>5</th>\n",
       "      <td>매운새우깡</td>\n",
       "      <td>44.00</td>\n",
       "      <td>30</td>\n",
       "      <td>2017</td>\n",
       "    </tr>\n",
       "    <tr>\n",
       "      <th>6</th>\n",
       "      <td>쌀새우깡</td>\n",
       "      <td>150.00</td>\n",
       "      <td>30</td>\n",
       "      <td>2015</td>\n",
       "    </tr>\n",
       "    <tr>\n",
       "      <th>7</th>\n",
       "      <td>쌀새우깡</td>\n",
       "      <td>45.00</td>\n",
       "      <td>30</td>\n",
       "      <td>2017</td>\n",
       "    </tr>\n",
       "  </tbody>\n",
       "</table>\n",
       "</div>"
      ],
      "text/plain": [
       "        식품이름 열량 (kcal) 1회제공량 (g)  구축년도\n",
       "0  과자,DHA새우깡    151.20        30  2006\n",
       "1  과자,DHA새우깡     45.36        30  2017\n",
       "2        새우깡    146.67        30  2015\n",
       "3        새우깡     44.00        30  2017\n",
       "4      매운새우깡    146.67        30  2015\n",
       "5      매운새우깡     44.00        30  2017\n",
       "6       쌀새우깡    150.00        30  2015\n",
       "7       쌀새우깡     45.00        30  2017"
      ]
     },
     "execution_count": 63,
     "metadata": {},
     "output_type": "execute_result"
    }
   ],
   "source": [
    "# 식품이름(DESC_KOR)\n",
    "# 열량 (kcal) (NUTR_CONT1)\n",
    "# 1회제공량 (g) (SERVING_WT)\n",
    "# 구축년도 (BGN_YEAR)\n",
    "\n",
    "df = pd.DataFrame(result['body']['items'])\n",
    "\n",
    "# ===========================================================================\n",
    "# Column Select\n",
    "# Case1\n",
    "df2 = df[['DESC_KOR', 'NUTR_CONT1', 'SERVING_WT', 'BGN_YEAR']]\n",
    "# ===========================================================================\n",
    "\n",
    "\n",
    "# ===========================================================================\n",
    "# Column Rename\n",
    "# Case1\n",
    "df2.columns = ['식품이름', '열량 (kcal)', '1회제공량 (g)', '구축년도']\n",
    "# Case2\n",
    "newcols = {'DESC_KOR' : '식품이름', 'NUTR_CONT1' : '열량 (kcal)', 'SERVING_WT' : '1회제공량 (g)', 'BGN_YEAR' : '구축년도'}\n",
    "df2.rename(columns=newcols, inplace=True)\n",
    "# ===========================================================================\n",
    "\n",
    "df2\n"
   ]
  },
  {
   "cell_type": "code",
   "execution_count": null,
   "metadata": {},
   "outputs": [],
   "source": []
  }
 ],
 "metadata": {
  "kernelspec": {
   "display_name": "Python 3",
   "language": "python",
   "name": "python3"
  },
  "language_info": {
   "codemirror_mode": {
    "name": "ipython",
    "version": 3
   },
   "file_extension": ".py",
   "mimetype": "text/x-python",
   "name": "python",
   "nbconvert_exporter": "python",
   "pygments_lexer": "ipython3",
   "version": "3.12.4"
  }
 },
 "nbformat": 4,
 "nbformat_minor": 2
}
