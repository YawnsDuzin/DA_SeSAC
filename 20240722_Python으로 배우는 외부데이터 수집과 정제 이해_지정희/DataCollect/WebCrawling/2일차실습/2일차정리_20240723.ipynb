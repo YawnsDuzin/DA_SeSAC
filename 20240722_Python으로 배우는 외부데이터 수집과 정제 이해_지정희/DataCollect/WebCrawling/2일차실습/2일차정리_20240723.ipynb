{
 "cells": [
  {
   "cell_type": "markdown",
   "metadata": {},
   "source": [
    "# 4. HTML을 이용한 웹 페이지 크롤링"
   ]
  },
  {
   "cell_type": "markdown",
   "metadata": {},
   "source": [
    "## 4.1. 웹 크롤링 기초\n",
    "- HTML 기본 구조와 태그 이해\n",
    "- BeautifulSoup 라이브러리 소개 및 설치\n",
    "- 간단한 웹 페이지 데이터 추출하기"
   ]
  },
  {
   "cell_type": "markdown",
   "metadata": {},
   "source": [
    "### HTML 기존구조와 태그 이해"
   ]
  },
  {
   "cell_type": "markdown",
   "metadata": {},
   "source": [
    "- 웹(World Wide Web, www, w3) 이란 무엇인가?\n",
    "    - 인터넷을 통해 접근할 수 있는 정보 시스템\n",
    "    - 웹 브라우저를 통해 사용자들이 정보를 검색하고 공유할 수 있게 함.\n",
    "    - 인터넷 vs. 웹\n",
    "        - 인터넷 : 전 세계의 컴퓨터 네트워크를 연결하는 인프라\n",
    "        - 웹 : 이 인프라를 이용해 정보를 교환하는 서비스\n",
    "- 웹의 구성요소\n",
    "    - 클라이언트\n",
    "        - 웹 브라우저 : 사용자가 웹 페이지를 탐색할 수 있게 해주는 소프트웨어\n",
    "        - 웹 요청(Request) : 사용자가 웹 브라우저를 통해 서버에 요청하는 메시지\n",
    "    - 서버\n",
    "        - 웹 서버 : 클라이언트의 요청을 받아들여 적절한 웹 페이지를 반환하는 소프트웨어\n",
    "        - 데이터베이스 서버 : 데이터를 저장하고 관리하는 서버\n",
    "    - 네트워크\n",
    "        - 인터넷 : 전 세계의 컴퓨터 네트워크를 연결하는 시스템\n",
    "        - 프로토콜 : 통신 규칙으로, 웹에서는 주로 HTTP/HTTPS 를 사용함\n",
    "- 웹의 동작 원리\n",
    "    1. URL 입력\n",
    "        - 사용자가 웹 브라우저의 주소 창에 URL을 입력\n",
    "    2. DNS 조회\n",
    "        - 도메인 네임 시스템(DNS)을 통해 도메인 이름을 IP 주소로 변환\n",
    "    3. HTTP 요청\n",
    "        - 웹 브라우저가 해당 IP주소로 HTTP 요청을 보냄\n",
    "    4. 서버 처리\n",
    "        - 웹 서버가 요청을 처리하고, 필요한 경우 데이터베이스 서버와 통신함.\n",
    "    5. HTTP 응답\n",
    "        - 웹 서버가 요청에 대한 응답을 웹 브라우저에 반환\n",
    "    6. 렌더링\n",
    "        - 웹 브라우저가 HTML,CSS,JavaScript를 해석하여 사용자에게 웹 페이지를 표시\n",
    "- 웹 기술 개요\n",
    "    - HTTP (HyperText Transfer Protocol)\n",
    "        - 웹 브라우저와 서버 간의 통신을 규정하는 프로토콜\n",
    "    - HTML (HyperText Markup Language)\n",
    "        - 웹 페이지의 구조를 정의하는 마크업 언어\n",
    "    - CSS (Cascading Style Sheets)\n",
    "        - 웹 페이지의 스타일을 정의하는 언어\n",
    "    - JaveScript\n",
    "        - 웹 페이지에 동적 기능을 추가하는 프로그래밍 언어\n",
    "- HTTP의 개요\n",
    "    - 웹에서 정보를 주고 받기 위한 프로토콜\n",
    "    - 웹 브라우저와 웹 서버간의 통신을 가능하게 함."
   ]
  },
  {
   "cell_type": "markdown",
   "metadata": {},
   "source": [
    "### CSS 기초 개념"
   ]
  },
  {
   "cell_type": "markdown",
   "metadata": {},
   "source": [
    "- CSS (Cascading Style Sheets) 란 무엇인가?\n",
    "    - HTML 문서의 스타일을 정의하는 언어\n",
    "    - 웹 페이지의 레이아웃, 색상, 폰트 등 시각적 요소를 꾸미기 위해 사용\n",
    "- 기본 문법\n",
    "    - CSS는 선택자(selector)와 선언(declaration) 으로 구성\n",
    "        - 선택자는 스타일을 적용할 HTML 요소를 선택\n",
    "```\n",
    "선택자 {\n",
    "    속성1 : 값1;\n",
    "    속성2 : 값2;\n",
    "}\n",
    "\n",
    "h1 {\n",
    "    color : blue;\n",
    "    font-size : 24px;\n",
    "}\n",
    "```\n",
    "\n",
    "- 기본 문법\n",
    "    - CSS 적용하기\n",
    "        - 인라인 스타일 : 각 태그에 style 속성을 사용하여 직접 스타일 지정\n",
    "        ```\n",
    "        <h1 style=\"color:blue; font-size:24px;\">제목1</h1>\n",
    "        ```"
   ]
  },
  {
   "cell_type": "markdown",
   "metadata": {},
   "source": [
    "## 4.2. 정적 데이터 수집"
   ]
  },
  {
   "cell_type": "markdown",
   "metadata": {},
   "source": [
    "## 4.3. 동적 데이터 수집"
   ]
  },
  {
   "cell_type": "markdown",
   "metadata": {},
   "source": []
  }
 ],
 "metadata": {
  "language_info": {
   "name": "python"
  }
 },
 "nbformat": 4,
 "nbformat_minor": 2
}
